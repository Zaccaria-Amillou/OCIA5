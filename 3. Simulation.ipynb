{
 "cells": [
  {
   "cell_type": "markdown",
   "source": [
    "### Import des libraries"
   ],
   "metadata": {
    "collapsed": false
   },
   "id": "f336ed6148feb4e4"
  },
  {
   "cell_type": "code",
   "outputs": [],
   "source": [
    "import pandas as pd\n",
    "from sklearn.cluster import KMeans\n",
    "from sklearn.metrics import adjusted_rand_score\n",
    "from sklearn.preprocessing import StandardScaler\n",
    "import matplotlib.pyplot as plt\n",
    "import numpy as np"
   ],
   "metadata": {
    "collapsed": false,
    "ExecuteTime": {
     "end_time": "2024-02-28T12:26:27.372382Z",
     "start_time": "2024-02-28T12:26:27.367148Z"
    }
   },
   "id": "425e0e06f7e50876",
   "execution_count": 55
  },
  {
   "cell_type": "markdown",
   "source": [
    "### Fonctions"
   ],
   "metadata": {
    "collapsed": false
   },
   "id": "a6c5caf940989278"
  },
  {
   "cell_type": "code",
   "outputs": [],
   "source": [
    "def prep_df(df, ratio):\n",
    "    '''Fonction qui divise le dataframe selon un ratio sélectionné\n",
    "    ARGS:\n",
    "        df: dataframe\n",
    "        ratio: ratio de division du df'''\n",
    "\n",
    "    df_sort = df.sort_values('Recence').reset_index()\n",
    "    num_lignes = round(df_sort.shape[0] * ratio)\n",
    "    df1 = df_sort.iloc[:num_lignes, :]\n",
    "    return df1.drop('index', axis=1)\n"
   ],
   "metadata": {
    "collapsed": false,
    "ExecuteTime": {
     "end_time": "2024-02-28T12:26:27.392218Z",
     "start_time": "2024-02-28T12:26:27.383773Z"
    }
   },
   "id": "ae1f576616dae711",
   "execution_count": 56
  },
  {
   "cell_type": "code",
   "outputs": [],
   "source": [
    "def div_pas (df,t1,  semaine):\n",
    "    '''Fonction pour diviser le df en semaines\n",
    "    ARGS:\n",
    "        df: dataframe\n",
    "        t1 : date limite\n",
    "        seamaines : numéro des semaines à considerer'''\n",
    "\n",
    "    # Calculer le pas en jours en fonction du pas en semaines spécifié\n",
    "    step = 7 * semaine\n",
    "    # Trouver la date la plus ancienne et la plus récente dans la colonne 'Recence'\n",
    "    ancienne, nouv = min(df['Recence']), max(df['Recence'])\n",
    "    # Calculer la durée totale en jours\n",
    "    nb = nouv - ancienne\n",
    "    # Init liste pour stocker les différents pas de temps\n",
    "    T = []\n",
    "    t = t1\n",
    "    # Générer les pas de temps jusqu'à la date la plus récente\n",
    "    while t < nouv:\n",
    "        T.append(t)\n",
    "        t += step\n",
    "    # Supprimer le premier élément de la liste car il est égal à t1\n",
    "    T.pop(0)\n",
    "    return T"
   ],
   "metadata": {
    "collapsed": false,
    "ExecuteTime": {
     "end_time": "2024-02-28T12:26:27.403872Z",
     "start_time": "2024-02-28T12:26:27.400564Z"
    }
   },
   "id": "386b0141d9b2bf6a",
   "execution_count": 57
  },
  {
   "cell_type": "markdown",
   "source": [
    "### Import des fichiers"
   ],
   "metadata": {
    "collapsed": false
   },
   "id": "c4a0afae7d585a8d"
  },
  {
   "cell_type": "code",
   "outputs": [],
   "source": [
    "# Import des du fichier\n",
    "df = pd.read_csv('../data/processed/RFM_clust.csv')"
   ],
   "metadata": {
    "collapsed": false,
    "ExecuteTime": {
     "end_time": "2024-02-28T12:26:27.431091Z",
     "start_time": "2024-02-28T12:26:27.405320Z"
    }
   },
   "id": "d86a99e9f1155ceb",
   "execution_count": 58
  },
  {
   "cell_type": "code",
   "outputs": [
    {
     "data": {
      "text/plain": "   Recence  Frequence  Montant  Cluster\n0      162          1   141.90        2\n1      165          1    27.19        1\n2      587          1    86.22        4",
      "text/html": "<div>\n<style scoped>\n    .dataframe tbody tr th:only-of-type {\n        vertical-align: middle;\n    }\n\n    .dataframe tbody tr th {\n        vertical-align: top;\n    }\n\n    .dataframe thead th {\n        text-align: right;\n    }\n</style>\n<table border=\"1\" class=\"dataframe\">\n  <thead>\n    <tr style=\"text-align: right;\">\n      <th></th>\n      <th>Recence</th>\n      <th>Frequence</th>\n      <th>Montant</th>\n      <th>Cluster</th>\n    </tr>\n  </thead>\n  <tbody>\n    <tr>\n      <th>0</th>\n      <td>162</td>\n      <td>1</td>\n      <td>141.90</td>\n      <td>2</td>\n    </tr>\n    <tr>\n      <th>1</th>\n      <td>165</td>\n      <td>1</td>\n      <td>27.19</td>\n      <td>1</td>\n    </tr>\n    <tr>\n      <th>2</th>\n      <td>587</td>\n      <td>1</td>\n      <td>86.22</td>\n      <td>4</td>\n    </tr>\n  </tbody>\n</table>\n</div>"
     },
     "metadata": {},
     "output_type": "display_data"
    }
   ],
   "source": [
    "#affichage du df\n",
    "display(df.head(3))"
   ],
   "metadata": {
    "collapsed": false,
    "ExecuteTime": {
     "end_time": "2024-02-28T12:26:27.440759Z",
     "start_time": "2024-02-28T12:26:27.431663Z"
    }
   },
   "id": "acb38eec5e43571a",
   "execution_count": 59
  },
  {
   "cell_type": "markdown",
   "source": [
    "### Simulation mise à jour"
   ],
   "metadata": {
    "collapsed": false
   },
   "id": "6724b7566bc4f958"
  },
  {
   "cell_type": "code",
   "outputs": [
    {
     "name": "stdout",
     "output_type": "stream",
     "text": [
      "lignes dans le df 93458\n",
      "lignes dans le df divisées 46729\n"
     ]
    }
   ],
   "source": [
    "# create first dataset with half data\n",
    "ratio = 0.5\n",
    "\n",
    "df1 = prep_df(df, ratio)\n",
    "print('lignes dans le df',df.shape[0])\n",
    "print('lignes dans le df divisées',df1.shape[0])"
   ],
   "metadata": {
    "collapsed": false,
    "ExecuteTime": {
     "end_time": "2024-02-28T12:26:27.457224Z",
     "start_time": "2024-02-28T12:26:27.441962Z"
    }
   },
   "id": "7c8dc78feb21155e",
   "execution_count": 60
  },
  {
   "cell_type": "code",
   "outputs": [],
   "source": [
    "# définition pas de la boucle \n",
    "pas_semaines = 1\n",
    "t1 = df1['Recence'].max()"
   ],
   "metadata": {
    "collapsed": false,
    "ExecuteTime": {
     "end_time": "2024-02-28T12:26:27.459450Z",
     "start_time": "2024-02-28T12:26:27.457781Z"
    }
   },
   "id": "9fd05c37ebcec06f",
   "execution_count": 61
  },
  {
   "cell_type": "code",
   "outputs": [],
   "source": [
    "T = div_pas(df, t1, pas_semaines)"
   ],
   "metadata": {
    "collapsed": false,
    "ExecuteTime": {
     "end_time": "2024-02-28T12:26:27.469724Z",
     "start_time": "2024-02-28T12:26:27.459909Z"
    }
   },
   "id": "3270717f5e7f2579",
   "execution_count": 62
  },
  {
   "cell_type": "markdown",
   "source": [
    "#### Stabilité à l’initialisation"
   ],
   "metadata": {
    "collapsed": false
   },
   "id": "c7edfbc306b9529c"
  },
  {
   "cell_type": "code",
   "outputs": [
    {
     "data": {
      "text/plain": "<Figure size 640x480 with 1 Axes>",
      "image/png": "[encoded data removed]"
     },
     "metadata": {},
     "output_type": "display_data"
    }
   ],
   "source": [
    "# Range des clusters à tester\n",
    "n_init_range = range(1, 21)\n",
    "\n",
    "# création list avec valeurs ARI\n",
    "ari_values = []\n",
    "\n",
    "# Itérer sur différentes initialisations\n",
    "for n_init_value in n_init_range:\n",
    "    model = KMeans(n_clusters=k_opti, random_state=0, n_init=n_init_value, init='k-means++', max_iter=300)\n",
    "    model.fit(X_0)\n",
    "    labels = model.labels_\n",
    "    ari = adjusted_rand_score(model_0.labels_, labels)\n",
    "    ari_values.append(ari)\n",
    "\n",
    "# plot des valeurs ARI\n",
    "plt.plot(n_init_range, ari_values, marker='o')\n",
    "plt.title('Stabilité lors de l\\'initialisation')\n",
    "plt.xlabel('Nombre d\\'initialisations')\n",
    "plt.ylabel('Adjusted Rand Index (ARI)')\n",
    "plt.show()"
   ],
   "metadata": {
    "collapsed": false,
    "ExecuteTime": {
     "end_time": "2024-02-28T12:26:34.428662Z",
     "start_time": "2024-02-28T12:26:27.470444Z"
    }
   },
   "id": "f28bc3a1e4dab3d3",
   "execution_count": 63
  },
  {
   "cell_type": "code",
   "outputs": [],
   "source": [
    "k_opti = 6"
   ],
   "metadata": {
    "collapsed": false,
    "ExecuteTime": {
     "end_time": "2024-02-28T12:26:34.446309Z",
     "start_time": "2024-02-28T12:26:34.430282Z"
    }
   },
   "id": "5f6bda6120e4b165",
   "execution_count": 64
  },
  {
   "cell_type": "code",
   "outputs": [
    {
     "data": {
      "text/plain": "KMeans(n_clusters=6, n_init=10, random_state=0)",
      "text/html": "<style>#sk-container-id-7 {color: black;}#sk-container-id-7 pre{padding: 0;}#sk-container-id-7 div.sk-toggleable {background-color: white;}#sk-container-id-7 label.sk-toggleable__label {cursor: pointer;display: block;width: 100%;margin-bottom: 0;padding: 0.3em;box-sizing: border-box;text-align: center;}#sk-container-id-7 label.sk-toggleable__label-arrow:before {content: \"▸\";float: left;margin-right: 0.25em;color: #696969;}#sk-container-id-7 label.sk-toggleable__label-arrow:hover:before {color: black;}#sk-container-id-7 div.sk-estimator:hover label.sk-toggleable__label-arrow:before {color: black;}#sk-container-id-7 div.sk-toggleable__content {max-height: 0;max-width: 0;overflow: hidden;text-align: left;background-color: #f0f8ff;}#sk-container-id-7 div.sk-toggleable__content pre {margin: 0.2em;color: black;border-radius: 0.25em;background-color: #f0f8ff;}#sk-container-id-7 input.sk-toggleable__control:checked~div.sk-toggleable__content {max-height: 200px;max-width: 100%;overflow: auto;}#sk-container-id-7 input.sk-toggleable__control:checked~label.sk-toggleable__label-arrow:before {content: \"▾\";}#sk-container-id-7 div.sk-estimator input.sk-toggleable__control:checked~label.sk-toggleable__label {background-color: #d4ebff;}#sk-container-id-7 div.sk-label input.sk-toggleable__control:checked~label.sk-toggleable__label {background-color: #d4ebff;}#sk-container-id-7 input.sk-hidden--visually {border: 0;clip: rect(1px 1px 1px 1px);clip: rect(1px, 1px, 1px, 1px);height: 1px;margin: -1px;overflow: hidden;padding: 0;position: absolute;width: 1px;}#sk-container-id-7 div.sk-estimator {font-family: monospace;background-color: #f0f8ff;border: 1px dotted black;border-radius: 0.25em;box-sizing: border-box;margin-bottom: 0.5em;}#sk-container-id-7 div.sk-estimator:hover {background-color: #d4ebff;}#sk-container-id-7 div.sk-parallel-item::after {content: \"\";width: 100%;border-bottom: 1px solid gray;flex-grow: 1;}#sk-container-id-7 div.sk-label:hover label.sk-toggleable__label {background-color: #d4ebff;}#sk-container-id-7 div.sk-serial::before {content: \"\";position: absolute;border-left: 1px solid gray;box-sizing: border-box;top: 0;bottom: 0;left: 50%;z-index: 0;}#sk-container-id-7 div.sk-serial {display: flex;flex-direction: column;align-items: center;background-color: white;padding-right: 0.2em;padding-left: 0.2em;position: relative;}#sk-container-id-7 div.sk-item {position: relative;z-index: 1;}#sk-container-id-7 div.sk-parallel {display: flex;align-items: stretch;justify-content: center;background-color: white;position: relative;}#sk-container-id-7 div.sk-item::before, #sk-container-id-7 div.sk-parallel-item::before {content: \"\";position: absolute;border-left: 1px solid gray;box-sizing: border-box;top: 0;bottom: 0;left: 50%;z-index: -1;}#sk-container-id-7 div.sk-parallel-item {display: flex;flex-direction: column;z-index: 1;position: relative;background-color: white;}#sk-container-id-7 div.sk-parallel-item:first-child::after {align-self: flex-end;width: 50%;}#sk-container-id-7 div.sk-parallel-item:last-child::after {align-self: flex-start;width: 50%;}#sk-container-id-7 div.sk-parallel-item:only-child::after {width: 0;}#sk-container-id-7 div.sk-dashed-wrapped {border: 1px dashed gray;margin: 0 0.4em 0.5em 0.4em;box-sizing: border-box;padding-bottom: 0.4em;background-color: white;}#sk-container-id-7 div.sk-label label {font-family: monospace;font-weight: bold;display: inline-block;line-height: 1.2em;}#sk-container-id-7 div.sk-label-container {text-align: center;}#sk-container-id-7 div.sk-container {/* jupyter's `normalize.less` sets `[hidden] { display: none; }` but bootstrap.min.css set `[hidden] { display: none !important; }` so we also need the `!important` here to be able to override the default hidden behavior on the sphinx rendered scikit-learn.org. See: https://github.com/scikit-learn/scikit-learn/issues/21755 */display: inline-block !important;position: relative;}#sk-container-id-7 div.sk-text-repr-fallback {display: none;}</style><div id=\"sk-container-id-7\" class=\"sk-top-container\"><div class=\"sk-text-repr-fallback\"><pre>KMeans(n_clusters=6, n_init=10, random_state=0)</pre><b>In a Jupyter environment, please rerun this cell to show the HTML representation or trust the notebook. <br />On GitHub, the HTML representation is unable to render, please try loading this page with nbviewer.org.</b></div><div class=\"sk-container\" hidden><div class=\"sk-item\"><div class=\"sk-estimator sk-toggleable\"><input class=\"sk-toggleable__control sk-hidden--visually\" id=\"sk-estimator-id-7\" type=\"checkbox\" checked><label for=\"sk-estimator-id-7\" class=\"sk-toggleable__label sk-toggleable__label-arrow\">KMeans</label><div class=\"sk-toggleable__content\"><pre>KMeans(n_clusters=6, n_init=10, random_state=0)</pre></div></div></div></div></div>"
     },
     "execution_count": 65,
     "metadata": {},
     "output_type": "execute_result"
    }
   ],
   "source": [
    "# train original model and scaler on df_0\n",
    "X_0 = df1.to_numpy()\n",
    "scaler_0 = StandardScaler().fit(X_0)\n",
    "X_0 = scaler_0.transform(X_0)\n",
    "\n",
    "model_0 = KMeans(n_clusters=k_opti, random_state=0, n_init=10,init='k-means++', max_iter=300)\n",
    "model_0.fit(X_0)"
   ],
   "metadata": {
    "collapsed": false,
    "ExecuteTime": {
     "end_time": "2024-02-28T12:26:34.873163Z",
     "start_time": "2024-02-28T12:26:34.449340Z"
    }
   },
   "id": "2a9f868c879e2327",
   "execution_count": 65
  },
  {
   "cell_type": "markdown",
   "source": [
    "#### Calcul ARI et plot graphique"
   ],
   "metadata": {
    "collapsed": false
   },
   "id": "74a1c3d9518a0e07"
  },
  {
   "cell_type": "code",
   "outputs": [],
   "source": [
    "scores = []\n",
    "\n",
    "for t in T:\n",
    "    # Sélectionner les données jusqu'au temps t\n",
    "    df_t = df[df['Recence'] <= t]\n",
    "    # Conversion des données en tableau numpy\n",
    "    X_t = df_t.to_numpy()\n",
    "    # Standardisation des données à chaque étape de temps\n",
    "    scaler_t = StandardScaler().fit(X_t)\n",
    "    X_t_scaled = scaler_t.transform(X_t)\n",
    "    # Adaptation des données à l'échelle de référence\n",
    "    X_t_old_scaler = scaler_0.transform(X_t)\n",
    "    # Application du modèle KMeans sur les données standardisées\n",
    "    model_t = KMeans(n_clusters=k_opti, \n",
    "                     random_state=0, \n",
    "                     n_init=10, \n",
    "                     init='k-means++', \n",
    "                     max_iter=300)\n",
    "    # fit du modèle\n",
    "    model_t.fit(X_t_scaled)\n",
    "    pred_t = model_t.predict(X_t_scaled)\n",
    "    # Prédict des clusters avec le modèle de référence\n",
    "    pred_0 = model_0.predict(X_t_old_scaler)\n",
    "    # Calcul des scores d'ajustement entre les deux jeux de prédictions\n",
    "    score = adjusted_rand_score(pred_t, pred_0)\n",
    "    scores.append(score)\n"
   ],
   "metadata": {
    "collapsed": false,
    "ExecuteTime": {
     "end_time": "2024-02-28T12:27:21.369707Z",
     "start_time": "2024-02-28T12:26:34.883046Z"
    }
   },
   "id": "933e47246f26201f",
   "execution_count": 66
  },
  {
   "cell_type": "code",
   "outputs": [
    {
     "data": {
      "text/plain": "<Figure size 640x480 with 1 Axes>",
      "image/png": "[encoded data removed]"
     },
     "metadata": {},
     "output_type": "display_data"
    }
   ],
   "source": [
    "# affichage graphique\n",
    "weeks = [(i+1) * pas_semaines for i in range(len(scores))]\n",
    "\n",
    "plt.axhline(y=0.8, color='red', linestyle='--')\n",
    "plt.plot(weeks, scores)\n",
    "plt.xlabel('Semaines')\n",
    "plt.ylabel('ARI')\n",
    "plt.show()"
   ],
   "metadata": {
    "collapsed": false,
    "ExecuteTime": {
     "end_time": "2024-02-28T12:27:21.495870Z",
     "start_time": "2024-02-28T12:27:21.372022Z"
    }
   },
   "id": "83668039dbc76c96",
   "execution_count": 67
  }
 ],
 "metadata": {
  "kernelspec": {
   "display_name": "Python 3",
   "language": "python",
   "name": "python3"
  },
  "language_info": {
   "codemirror_mode": {
    "name": "ipython",
    "version": 2
   },
   "file_extension": ".py",
   "mimetype": "text/x-python",
   "name": "python",
   "nbconvert_exporter": "python",
   "pygments_lexer": "ipython2",
   "version": "2.7.6"
  }
 },
 "nbformat": 4,
 "nbformat_minor": 5
}
